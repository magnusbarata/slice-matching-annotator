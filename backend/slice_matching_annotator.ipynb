{
 "cells": [
  {
   "cell_type": "markdown",
   "metadata": {
    "slideshow": {
     "slide_type": "-"
    }
   },
   "source": [
    "# CT Slice Matching Annotator\n",
    "真値データの作成にご協力頂き，ありがとうございます! 🙏\n",
    "\n",
    "---\n",
    "### 📝 回答手順：\n",
    "1. 下記セルの9行目の`NAME`を設定します．\n",
    "2. `shift`+`enter`を押すとインターフェスが表示されます．\n",
    "3. 表示されたインターフェスから患者名を選択します．\n",
    "4. スライダで表示するスライスを調整して，各日付から同一スライスをボタンで選択します．（各日付から，1つのスライスを選んでください）\n",
    "<img src=\"nbimages/single_scan.png\" style=\"width:450;height:250px;\">\n",
    "5. 全ての日付+患者が終わるまで1~4を繰り返します．\n",
    "\n",
    "### ✅ 回答のチェック：\n",
    "1. Dropdownからチェックしたい患者名を選択します．\n",
    "2. スライスエリアの最も左のスライスが同一スライスです．\n",
    "<img src=\"nbimages/ans_check.png\" style=\"width:450;height:250px;\">\n",
    "\n",
    "### ⚠️ 注意事項：\n",
    "1. 検査日付が多い場合，__ロードに時間がかかる__場合があります．気長くお待ちください．🙇‍♂️ 具体的には，ブラウザのタブに砂時計アイコンが表示されたり，処理中アイコン（tf-gpuの隣の丸いアイコン）が黒かったりする間は回答しないでください．\n",
    "2. 回答保存ボタン押下せずに患者名を変えると__選択された項目が消えます__．\n",
    "3. __こまめに保存__することを推奨します．\n",
    "4. 途中で問題が発生したら，上のメニューバーからKernel⇨Restart & Clear Outputを選択します．そこから最初からやり直してください．"
   ]
  },
  {
   "cell_type": "code",
   "execution_count": null,
   "metadata": {
    "scrolled": true
   },
   "outputs": [],
   "source": [
    "%load_ext autoreload\n",
    "%autoreload 2\n",
    "%matplotlib widget\n",
    "import matplotlib as plt\n",
    "from widgets.annotator import Annotator\n",
    "plt.rcParams['figure.figsize'] = (4,1)\n",
    "plt.rcParams['figure.dpi'] = 175\n",
    "\n",
    "NAME = 'CHANGE_ME'\n",
    "Annotator('./dicom', out_name=NAME)"
   ]
  },
  {
   "cell_type": "code",
   "execution_count": null,
   "metadata": {},
   "outputs": [],
   "source": []
  }
 ],
 "metadata": {
  "celltoolbar": "Raw Cell Format",
  "kernelspec": {
   "display_name": "Python 3",
   "language": "python",
   "name": "python3"
  },
  "language_info": {
   "codemirror_mode": {
    "name": "ipython",
    "version": 3
   },
   "file_extension": ".py",
   "mimetype": "text/x-python",
   "name": "python",
   "nbconvert_exporter": "python",
   "pygments_lexer": "ipython3",
   "version": "3.7.3"
  }
 },
 "nbformat": 4,
 "nbformat_minor": 2
}
